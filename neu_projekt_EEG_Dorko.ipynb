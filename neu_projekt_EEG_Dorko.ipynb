{
  "nbformat": 4,
  "nbformat_minor": 0,
  "metadata": {
    "colab": {
      "provenance": []
    },
    "kernelspec": {
      "name": "python3",
      "display_name": "Python 3"
    },
    "language_info": {
      "name": "python"
    }
  },
  "cells": [
    {
      "cell_type": "code",
      "execution_count": 1,
      "metadata": {
        "id": "gX-pFX-yTVR_"
      },
      "outputs": [],
      "source": [
        "import numpy as np\n",
        "import matplotlib.pyplot as plt\n",
        "from pandas import read_csv\n",
        "from keras.models import Sequential\n",
        "from keras.layers import Dense\n",
        "from keras.layers.convolutional import Conv2D\n",
        "from keras.layers.convolutional import MaxPooling2D\n",
        "from keras.layers import Dropout\n",
        "from keras.layers import Flatten\n",
        "from keras.utils import np_utils\n",
        "\n",
        "from scipy.signal import spectrogram\n",
        "\n",
        "import tensorflow as tf"
      ]
    },
    {
      "cell_type": "code",
      "source": [
        "dataframe = read_csv('/content/drive/MyDrive/UPJS_mgr/neuronove_siete/MindBigDataVisualMnist2021-Muse2v0.16Cut2.csv', engine='python')\n",
        "dataset = dataframe.values\n",
        "print(np.shape(dataset))"
      ],
      "metadata": {
        "colab": {
          "base_uri": "https://localhost:8080/"
        },
        "id": "8EECTvaEOShq",
        "outputId": "c3a7e0aa-f646-489c-f90a-602eee69f396"
      },
      "execution_count": 2,
      "outputs": [
        {
          "output_type": "stream",
          "name": "stdout",
          "text": [
            "(11386, 6420)\n"
          ]
        }
      ]
    },
    {
      "cell_type": "code",
      "source": [
        "row_num = 17\n",
        "dataset_row = dataset[row_num, 3:6420]\n",
        "\n",
        "figure = dataset_row[0:784]\n",
        "for i in range(len(figure)):\n",
        "  if figure[i] > 0:\n",
        "    figure[i] = 1\n",
        "\n",
        "figure2 = np.reshape(figure, [28, 28], 'A')\n",
        "print('figure = ', dataset[row_num, 2])\n",
        "\n",
        "plt.figure(figsize = (5, 5))\n",
        "for i in range(28):\n",
        "  for j in range(28):\n",
        "    if figure2[i, j] > 0:\n",
        "      plt.plot(j, 27 - i, 'ko')\n",
        "\n",
        "plt.xlabel('skumana cifra')\n",
        "plt.savefig('cifra.png')\n",
        "plt.show()"
      ],
      "metadata": {
        "colab": {
          "base_uri": "https://localhost:8080/",
          "height": 351
        },
        "id": "xcKic8pATfFy",
        "outputId": "9fea1375-e1a1-44fb-d907-9b9b04fbae82"
      },
      "execution_count": 3,
      "outputs": [
        {
          "output_type": "stream",
          "name": "stdout",
          "text": [
            "figure =  6\n"
          ]
        },
        {
          "output_type": "display_data",
          "data": {
            "text/plain": [
              "<Figure size 360x360 with 1 Axes>"
            ],
            "image/png": "[encoded data removed]"
          },
          "metadata": {
            "needs_background": "light"
          }
        }
      ]
    },
    {
      "cell_type": "code",
      "source": [
        "histo = np.histogram(dataset[:, 2])\n",
        "print(histo)\n",
        "plt.hist(dataset[:, 2])\n",
        "# plt.savefig('histogram.png')"
      ],
      "metadata": {
        "colab": {
          "base_uri": "https://localhost:8080/",
          "height": 352
        },
        "id": "GuR1bNyP5dci",
        "outputId": "ea13c54f-a7d0-47b2-ecbb-b62dc802d9f0"
      },
      "execution_count": 4,
      "outputs": [
        {
          "output_type": "stream",
          "name": "stdout",
          "text": [
            "(array([1135, 1263, 1096, 1167, 1120, 1012, 1164, 1196, 1091, 1142]), array([0.0, 0.9, 1.8, 2.7, 3.6, 4.5, 5.4, 6.3, 7.2, 8.1, 9.0],\n",
            "      dtype=object))\n"
          ]
        },
        {
          "output_type": "execute_result",
          "data": {
            "text/plain": [
              "(array([1135., 1263., 1096., 1167., 1120., 1012., 1164., 1196., 1091.,\n",
              "        1142.]), array([0.0, 0.9, 1.8, 2.7, 3.6, 4.5, 5.4, 6.3, 7.2, 8.1, 9.0],\n",
              "       dtype=object), <a list of 10 Patch objects>)"
            ]
          },
          "metadata": {},
          "execution_count": 4
        },
        {
          "output_type": "display_data",
          "data": {
            "text/plain": [
              "<Figure size 432x288 with 1 Axes>"
            ],
            "image/png": "[encoded data removed]"
          },
          "metadata": {
            "needs_background": "light"
          }
        }
      ]
    },
    {
      "cell_type": "markdown",
      "source": [
        "## data preparation for 28x28 figures"
      ],
      "metadata": {
        "id": "oXFh9042BTIN"
      }
    },
    {
      "cell_type": "code",
      "source": [
        "figures_data_x = dataset[:, 3:787]\n",
        "print('figures data x ', figures_data_x.shape)\n",
        "\n",
        "X_train = figures_data_x.reshape((figures_data_x.shape[0], 28, 28, 1)).astype('float32')\n",
        "print('X_train ', X_train.shape)\n",
        "\n",
        "# normalize from 0-255 to 0-1\n",
        "X_train = X_train / 255\n",
        "\n",
        "# pre kazdy obrazok, urobime vektor, napr.: 7 -> [0 0 0 0 0 0 0 1 0 0]\n",
        "y_train = dataset[:, 2]\n",
        "y_train = np_utils.to_categorical(y_train)\n",
        "print('y_train ', y_train)"
      ],
      "metadata": {
        "colab": {
          "base_uri": "https://localhost:8080/"
        },
        "id": "DznDG3G4BZaF",
        "outputId": "c2e8a156-2432-4cf1-b219-5100222ccaff"
      },
      "execution_count": 5,
      "outputs": [
        {
          "output_type": "stream",
          "name": "stdout",
          "text": [
            "figures data x  (11386, 784)\n",
            "X_train  (11386, 28, 28, 1)\n",
            "y_train  [[1. 0. 0. ... 0. 0. 0.]\n",
            " [0. 0. 0. ... 0. 0. 0.]\n",
            " [0. 1. 0. ... 0. 0. 0.]\n",
            " ...\n",
            " [1. 0. 0. ... 0. 0. 0.]\n",
            " [0. 0. 0. ... 0. 0. 0.]\n",
            " [0. 0. 0. ... 1. 0. 0.]]\n"
          ]
        }
      ]
    },
    {
      "cell_type": "markdown",
      "source": [
        "## model for 28x28 figures"
      ],
      "metadata": {
        "id": "gbPZOY9yY85p"
      }
    },
    {
      "cell_type": "code",
      "source": [
        "def figure_model():\n",
        "  model = Sequential()\n",
        "  model.add(Conv2D(32, (5, 5), input_shape=(28, 28, 1), activation='relu'))\n",
        "  model.add(MaxPooling2D())\n",
        "  model.add(Dropout(0.2))\n",
        "  model.add(Flatten())\n",
        "  model.add(Dense(128, activation='relu'))\n",
        "  model.add(Dense(10, activation='softmax'))\n",
        "\n",
        "  model.compile(loss='categorical_crossentropy', optimizer='adam', metrics=['accuracy'])\n",
        "\n",
        "  return model\n",
        "\n",
        "fig_model = figure_model()\n",
        "fig_model.summary()\n",
        "fig_model.fit(X_train, y_train, epochs=6, batch_size=20)\n",
        "\n",
        "# evaluation of the model\n",
        "scores = fig_model.evaluate(X_train, y_train, verbose=0)\n",
        "print('CNN error: %.2f%%' % (100 - scores[1] * 100))\n",
        "print('CNN accuracy: %.2f%%' % (100 - scores[0] * 100))"
      ],
      "metadata": {
        "colab": {
          "base_uri": "https://localhost:8080/"
        },
        "id": "gVZp6_mzY_kp",
        "outputId": "ab62c42c-fe00-4e0a-9de3-c89870d40cc1"
      },
      "execution_count": null,
      "outputs": [
        {
          "output_type": "stream",
          "name": "stdout",
          "text": [
            "Model: \"sequential\"\n",
            "_________________________________________________________________\n",
            " Layer (type)                Output Shape              Param #   \n",
            "=================================================================\n",
            " conv2d (Conv2D)             (None, 24, 24, 32)        832       \n",
            "                                                                 \n",
            " max_pooling2d (MaxPooling2D  (None, 12, 12, 32)       0         \n",
            " )                                                               \n",
            "                                                                 \n",
            " dropout (Dropout)           (None, 12, 12, 32)        0         \n",
            "                                                                 \n",
            " flatten (Flatten)           (None, 4608)              0         \n",
            "                                                                 \n",
            " dense (Dense)               (None, 128)               589952    \n",
            "                                                                 \n",
            " dense_1 (Dense)             (None, 10)                1290      \n",
            "                                                                 \n",
            "=================================================================\n",
            "Total params: 592,074\n",
            "Trainable params: 592,074\n",
            "Non-trainable params: 0\n",
            "_________________________________________________________________\n",
            "Epoch 1/6\n",
            "570/570 [==============================] - 10s 16ms/step - loss: 0.3260 - accuracy: 0.9005\n",
            "Epoch 2/6\n",
            "570/570 [==============================] - 9s 16ms/step - loss: 0.1095 - accuracy: 0.9675\n",
            "Epoch 3/6\n",
            "570/570 [==============================] - 11s 19ms/step - loss: 0.0711 - accuracy: 0.9776\n",
            "Epoch 4/6\n",
            "570/570 [==============================] - 9s 16ms/step - loss: 0.0493 - accuracy: 0.9845\n",
            "Epoch 5/6\n",
            "570/570 [==============================] - 9s 16ms/step - loss: 0.0363 - accuracy: 0.9878\n",
            "Epoch 6/6\n",
            "570/570 [==============================] - 9s 16ms/step - loss: 0.0269 - accuracy: 0.9912\n",
            "CNN error: 0.32%\n",
            "CNN accuracy: 98.86%\n"
          ]
        }
      ]
    },
    {
      "cell_type": "code",
      "source": [
        "figure_predict = fig_model.predict(X_train)\n",
        "result_table = np.zeros((10, 3))\n",
        "\n",
        "for j in range(10):\n",
        "  result_table[j, 0] = j\n",
        "\n",
        "for j in range(figures_data_x.shape[0]):\n",
        "  xx = np.array(figure_predict[j][:])\n",
        "  jfig = 0\n",
        "  row_max = 0\n",
        "  for i in range(10):\n",
        "    if row_max <= xx[i]:\n",
        "      jfig = i\n",
        "      row_max = xx[i]\n",
        "  prediction_fig = jfig\n",
        "  real_fig = dataset[j, 2]\n",
        "\n",
        "  if prediction_fig == real_fig:\n",
        "    result_table[real_fig][1] = result_table[real_fig][1] + 1\n",
        "  else:\n",
        "    result_table[real_fig][2] = result_table[real_fig][2] + 1\n",
        "\n",
        "aaa = result_table[:]\n",
        "spr = np.sum(aaa, axis=0)\n",
        "\n",
        "print('spravne ', spr[1])\n",
        "print('nespravne', spr[2])"
      ],
      "metadata": {
        "colab": {
          "base_uri": "https://localhost:8080/"
        },
        "id": "WE0xDVI-dOBJ",
        "outputId": "fa9106ca-7c02-4a94-f096-098ff04cb6f8"
      },
      "execution_count": null,
      "outputs": [
        {
          "output_type": "stream",
          "name": "stdout",
          "text": [
            "356/356 [==============================] - 2s 6ms/step\n",
            "spravne  11350.0\n",
            "nespravne 36.0\n"
          ]
        }
      ]
    },
    {
      "cell_type": "markdown",
      "source": [
        "## summarize history for accuracy - model for 28x28 figures"
      ],
      "metadata": {
        "id": "IBpBjI0Rf1fY"
      }
    },
    {
      "cell_type": "code",
      "source": [
        "hist = fig_model.fit(X_train, y_train, validation_split=0.33, epochs=6, batch_size=10, verbose=0)\n",
        "\n",
        "plt.plot(hist.history['accuracy'])\n",
        "plt.plot(hist.history['val_accuracy'])\n",
        "plt.plot(hist.history['loss'])\n",
        "plt.plot(hist.history['val_loss'])\n",
        "\n",
        "plt.title('figure model accuracy')\n",
        "\n",
        "plt.ylabel('Accuracy')\n",
        "plt.xlabel('Epoch')\n",
        "\n",
        "plt.legend(['Accuracy', 'Validation accuracy', 'Loss', 'Validation loss'])\n",
        "plt.savefig('figure_model_accuracy.png')\n",
        "plt.show()"
      ],
      "metadata": {
        "colab": {
          "base_uri": "https://localhost:8080/",
          "height": 295
        },
        "id": "8qW8cpQvgAc5",
        "outputId": "04fca112-3ec6-4d7b-9c9b-282acacdb997"
      },
      "execution_count": null,
      "outputs": [
        {
          "output_type": "display_data",
          "data": {
            "text/plain": [
              "<Figure size 432x288 with 1 Axes>"
            ],
            "image/png": "[encoded data removed]"
          },
          "metadata": {
            "needs_background": "light"
          }
        }
      ]
    },
    {
      "cell_type": "markdown",
      "source": [
        "## summarize history for loss - model for 28x28 figures"
      ],
      "metadata": {
        "id": "Va5rDHlc5Vfs"
      }
    },
    {
      "cell_type": "code",
      "source": [
        "plt.plot(hist.history['loss'])\n",
        "plt.plot(hist.history['val_loss'])\n",
        "\n",
        "plt.title('figure model loss')\n",
        "\n",
        "plt.ylabel('loss')\n",
        "plt.xlabel('epoch')\n",
        "\n",
        "plt.legend(['train', 'test'])\n",
        "plt.show()"
      ],
      "metadata": {
        "colab": {
          "base_uri": "https://localhost:8080/",
          "height": 295
        },
        "id": "ft5cbbQs5dom",
        "outputId": "ee97ab27-ac97-41df-b2b2-5682e5e0c823"
      },
      "execution_count": null,
      "outputs": [
        {
          "output_type": "display_data",
          "data": {
            "text/plain": [
              "<Figure size 432x288 with 1 Axes>"
            ],
            "image/png": "[encoded data removed]"
          },
          "metadata": {
            "needs_background": "light"
          }
        }
      ]
    },
    {
      "cell_type": "markdown",
      "source": [
        "## EEG data preparation"
      ],
      "metadata": {
        "id": "aQkwJNh0qc3U"
      }
    },
    {
      "cell_type": "code",
      "source": [
        "EEG_start = 788\n",
        "EEG_length = 1024\n",
        "EEG_data = dataset[:, EEG_start:EEG_start + EEG_length]\n",
        "\n",
        "print('EEG data ', EEG_data.shape)\n",
        "\n",
        "# 2 kanaly TP9 a TP10\n",
        "EEG2 = EEG_data.reshape((EEG_data.shape[0], 2, 512)).astype('float32')\n",
        "\n",
        "print('EEG2 shape ', EEG2.shape)\n",
        "\n",
        "channel1 = EEG2[row_num, 0, :]\n",
        "channel2 = EEG2[row_num, 1, :]\n",
        "\n",
        "plt.plot(channel1)\n",
        "plt.plot(channel2)\n",
        "plt.legend(['channel 1', 'channel 2'], loc='lower right')\n",
        "plt.xlabel('channel raw signals (2secs) at 256hz')\n",
        "plt.savefig('signals.png')"
      ],
      "metadata": {
        "colab": {
          "base_uri": "https://localhost:8080/",
          "height": 314
        },
        "id": "sVnatAhOqhxj",
        "outputId": "b02e442a-cd9d-4133-9188-983b48686bdf"
      },
      "execution_count": 5,
      "outputs": [
        {
          "output_type": "stream",
          "name": "stdout",
          "text": [
            "EEG data  (11386, 1024)\n",
            "EEG2 shape  (11386, 2, 512)\n"
          ]
        },
        {
          "output_type": "display_data",
          "data": {
            "text/plain": [
              "<Figure size 432x288 with 1 Axes>"
            ],
            "image/png": "[encoded data removed]"
          },
          "metadata": {
            "needs_background": "light"
          }
        }
      ]
    },
    {
      "cell_type": "markdown",
      "source": [
        "## spectrograms "
      ],
      "metadata": {
        "id": "MIqmTRK0QH_h"
      }
    },
    {
      "cell_type": "code",
      "source": [
        "EEG_rows_count = EEG_data.shape[0]\n",
        "\n",
        "bb = np.zeros((2, 512))\n",
        "outputs_i = np.zeros((2, 52, 11))\n",
        "outputs = np.zeros((EEG_rows_count, 52, 22))\n",
        "\n",
        "fs = 256\n",
        "\n",
        "for row in range(EEG_rows_count):\n",
        "  for i in range(2):\n",
        "    bb[i, :] = EEG2[row, i, :]\n",
        "    ff, tt, outputs_i[i, :, :] = spectrogram(bb[i, :], fs, nperseg=51, noverlap=5, nfft=102)\n",
        "  \n",
        "  outputs[row, 0:52, 0:11] = outputs_i[0, :, :]\n",
        "  outputs[row, 0:52, 11:22] = outputs_i[1, :, :]\n",
        "\n",
        "\n",
        "# print('outputs', outputs[row_num, :, :])\n",
        "\n",
        "print('outputs shape ', outputs.shape)\n",
        "\n",
        "aFig = plt.pcolormesh(outputs[row_num, :, :])\n",
        "plt.title('Spektrogram - TP9, TP10')\n",
        "plt.legend(['TP9', 'TP10'])\n",
        "plt.xlabel('channel raw signal (2secs at 256hz)')\n",
        "plt.savefig('spektrogram.png')\n",
        "plt.show()"
      ],
      "metadata": {
        "colab": {
          "base_uri": "https://localhost:8080/",
          "height": 312
        },
        "id": "f6JG8AR2IDSi",
        "outputId": "a49c45e1-0094-41b2-dbe4-6bf790a4a030"
      },
      "execution_count": 6,
      "outputs": [
        {
          "output_type": "stream",
          "name": "stdout",
          "text": [
            "outputs shape  (11386, 52, 22)\n"
          ]
        },
        {
          "output_type": "display_data",
          "data": {
            "text/plain": [
              "<Figure size 432x288 with 1 Axes>"
            ],
            "image/png": "[encoded data removed]"
          },
          "metadata": {
            "needs_background": "light"
          }
        }
      ]
    },
    {
      "cell_type": "code",
      "source": [
        "EEG4 = outputs\n",
        "X_train = EEG4.reshape((EEG4.shape[0], 52, 22, 1)).astype('float')\n",
        "print('X_train ', X_train.shape)\n",
        "\n",
        "y_train = dataset[:, 2]\n",
        "# pre kazdy obrazok, urobime vektor, napr.: 7 -> [0 0 0 0 0 0 0 1 0 0]\n",
        "y_train = np_utils.to_categorical(y_train)\n",
        "print('y_train ', y_train)"
      ],
      "metadata": {
        "colab": {
          "base_uri": "https://localhost:8080/"
        },
        "id": "bp0UkfWZeAX8",
        "outputId": "7e8d75ff-6c30-4252-c0bf-58bf5927197a"
      },
      "execution_count": 7,
      "outputs": [
        {
          "output_type": "stream",
          "name": "stdout",
          "text": [
            "X_train  (11386, 52, 22, 1)\n",
            "y_train  [[1. 0. 0. ... 0. 0. 0.]\n",
            " [0. 0. 0. ... 0. 0. 0.]\n",
            " [0. 1. 0. ... 0. 0. 0.]\n",
            " ...\n",
            " [1. 0. 0. ... 0. 0. 0.]\n",
            " [0. 0. 0. ... 0. 0. 0.]\n",
            " [0. 0. 0. ... 1. 0. 0.]]\n"
          ]
        }
      ]
    },
    {
      "cell_type": "code",
      "source": [
        "num_classes = len(y_train[0][:])\n",
        "print('num_classes ', num_classes)\n",
        "\n",
        "# CNN model\n",
        "def baseline_model():\n",
        "  model = Sequential()\n",
        "  model.add(Conv2D(32, (3, 3), input_shape=(52, 22, 1), activation='relu'))\n",
        "  model.add(MaxPooling2D())\n",
        "  model.add(Dropout(0.2))\n",
        "  model.add(Flatten())\n",
        "  model.add(Dense(128, activation='relu'))\n",
        "  model.add(Dense(32, activation='relu'))\n",
        "  model.add(Dense(32, activation='relu'))\n",
        "  model.add(Dense(32, activation='relu'))\n",
        "  model.add(Dense(32, activation='relu'))\n",
        "  model.add(Dense(num_classes, activation='softmax'))\n",
        "\n",
        "  model.compile(loss='categorical_crossentropy', optimizer='adam', metrics=['accuracy'])\n",
        "\n",
        "  return model"
      ],
      "metadata": {
        "colab": {
          "base_uri": "https://localhost:8080/"
        },
        "id": "nzgpzYmqgREU",
        "outputId": "bdc1f428-0846-491b-f82c-89c0bdffd4f7"
      },
      "execution_count": null,
      "outputs": [
        {
          "output_type": "stream",
          "name": "stdout",
          "text": [
            "num_classes  10\n"
          ]
        }
      ]
    },
    {
      "cell_type": "code",
      "source": [
        "model = baseline_model()\n",
        "model.summary()\n",
        "model.fit(X_train, y_train, epochs=10, batch_size=10)"
      ],
      "metadata": {
        "colab": {
          "base_uri": "https://localhost:8080/"
        },
        "id": "V_AmePUBy2ER",
        "outputId": "f2221f69-cdad-41c0-e4a1-7fc306bb4e4a"
      },
      "execution_count": null,
      "outputs": [
        {
          "output_type": "stream",
          "name": "stdout",
          "text": [
            "Model: \"sequential_3\"\n",
            "_________________________________________________________________\n",
            " Layer (type)                Output Shape              Param #   \n",
            "=================================================================\n",
            " conv2d_3 (Conv2D)           (None, 50, 20, 32)        320       \n",
            "                                                                 \n",
            " max_pooling2d_3 (MaxPooling  (None, 25, 10, 32)       0         \n",
            " 2D)                                                             \n",
            "                                                                 \n",
            " dropout_3 (Dropout)         (None, 25, 10, 32)        0         \n",
            "                                                                 \n",
            " flatten_3 (Flatten)         (None, 8000)              0         \n",
            "                                                                 \n",
            " dense_7 (Dense)             (None, 32)                256032    \n",
            "                                                                 \n",
            " dense_8 (Dense)             (None, 32)                1056      \n",
            "                                                                 \n",
            " dense_9 (Dense)             (None, 32)                1056      \n",
            "                                                                 \n",
            " dense_10 (Dense)            (None, 32)                1056      \n",
            "                                                                 \n",
            " dense_11 (Dense)            (None, 10)                330       \n",
            "                                                                 \n",
            "=================================================================\n",
            "Total params: 259,850\n",
            "Trainable params: 259,850\n",
            "Non-trainable params: 0\n",
            "_________________________________________________________________\n",
            "Epoch 1/10\n",
            "1139/1139 [==============================] - 13s 11ms/step - loss: 2.4958 - accuracy: 0.1014\n",
            "Epoch 2/10\n",
            "1139/1139 [==============================] - 12s 11ms/step - loss: 2.3428 - accuracy: 0.1098\n",
            "Epoch 3/10\n",
            "1139/1139 [==============================] - 12s 10ms/step - loss: 2.3166 - accuracy: 0.1107\n",
            "Epoch 4/10\n",
            "1139/1139 [==============================] - 12s 11ms/step - loss: 2.3156 - accuracy: 0.1096\n",
            "Epoch 5/10\n",
            "1139/1139 [==============================] - 12s 11ms/step - loss: 2.3039 - accuracy: 0.1108\n",
            "Epoch 6/10\n",
            "1139/1139 [==============================] - 12s 10ms/step - loss: 2.3021 - accuracy: 0.1111\n",
            "Epoch 7/10\n",
            "1139/1139 [==============================] - 12s 11ms/step - loss: 2.3013 - accuracy: 0.1115\n",
            "Epoch 8/10\n",
            "1139/1139 [==============================] - 12s 10ms/step - loss: 2.3042 - accuracy: 0.1113\n",
            "Epoch 9/10\n",
            "1139/1139 [==============================] - 12s 10ms/step - loss: 2.3023 - accuracy: 0.1107\n",
            "Epoch 10/10\n",
            "1139/1139 [==============================] - 12s 10ms/step - loss: 2.3047 - accuracy: 0.1104\n"
          ]
        },
        {
          "output_type": "execute_result",
          "data": {
            "text/plain": [
              "<keras.callbacks.History at 0x7f6438e92670>"
            ]
          },
          "metadata": {},
          "execution_count": 24
        }
      ]
    },
    {
      "cell_type": "code",
      "source": [
        "scores = model.evaluate(X_train, y_train, verbose=0)\n",
        "print('CNN error %.2f%%' % (100 - scores[1] * 100))\n",
        "print('CNN accuracy %.2f%%' % (100 - scores[0] * 100))\n",
        "\n",
        "figure_predict = model.predict(X_train)\n",
        "print('Predikcia pre cifru v riadku ', row_num)\n",
        "print(figure_predict[row_num][:])\n",
        "\n",
        "# predikcia pre cifru v riadku row_num\n",
        "xx = np.array(figure_predict[row_num][:])\n",
        "row_max = xx[0]\n",
        "jfig = 0\n",
        "\n",
        "for i in range(10):\n",
        "  if row_max <= xx[i]:\n",
        "    jfig = i\n",
        "    row_max = xx[i]\n",
        "\n",
        "print('max = ', row_max)\n",
        "print('Prediction figure ', jfig)\n",
        "print('Real figure ', dataset[row_num, 2])\n",
        "\n",
        "plt.plot(figure_predict[row_num][:], 'ko')\n",
        "plt.title('Probabilities')\n",
        "plt.show()"
      ],
      "metadata": {
        "colab": {
          "base_uri": "https://localhost:8080/",
          "height": 437
        },
        "id": "h30Wrf8l0Qag",
        "outputId": "5efb6ec5-e733-45a4-fd8e-0c9771ca6213"
      },
      "execution_count": null,
      "outputs": [
        {
          "output_type": "stream",
          "name": "stdout",
          "text": [
            "CNN error 88.99%\n",
            "CNN accuracy -130.61%\n",
            "356/356 [==============================] - 3s 7ms/step\n",
            "Predikcia pre cifru v riadku  17\n",
            "[0.09837873 0.10961498 0.09731647 0.1020267  0.09939345 0.08879004\n",
            " 0.10252784 0.10658473 0.09518518 0.10018205]\n",
            "max =  0.109614976\n",
            "Prediction figure  1\n",
            "Real figure  6\n"
          ]
        },
        {
          "output_type": "display_data",
          "data": {
            "text/plain": [
              "<Figure size 432x288 with 1 Axes>"
            ],
            "image/png": "[encoded data removed]"
          },
          "metadata": {
            "needs_background": "light"
          }
        }
      ]
    },
    {
      "cell_type": "code",
      "source": [
        "result_table = np.zeros((10, 3))\n",
        "\n",
        "for j in range(10):\n",
        "  result_table[j, 0] = j\n",
        "\n",
        "for j in range(EEG_rows_count):\n",
        "  xx = np.array(figure_predict[j][:])\n",
        "  jfig = 0\n",
        "  row_max = 0\n",
        "  for i in range(10):\n",
        "    if row_max <= xx[i]:\n",
        "      jfig = i\n",
        "      row_max = xx[i]\n",
        "  prediction_fig = jfig\n",
        "  real_fig = dataset[j, 2]\n",
        "\n",
        "  if prediction_fig == real_fig:\n",
        "    result_table[real_fig][1] = result_table[real_fig][1] + 1\n",
        "  else:\n",
        "    result_table[real_fig][2] = result_table[real_fig][2] + 1\n",
        "\n",
        "aaa = result_table[:]\n",
        "spr = np.sum(aaa, axis=0)\n",
        "\n",
        "print('spravne ', spr[1])\n",
        "print('nespravne', spr[2])"
      ],
      "metadata": {
        "colab": {
          "base_uri": "https://localhost:8080/"
        },
        "id": "vsmPhHpoIEY6",
        "outputId": "b0421927-f547-43ca-9997-8258d2b56a96"
      },
      "execution_count": null,
      "outputs": [
        {
          "output_type": "stream",
          "name": "stdout",
          "text": [
            "spravne  1254.0\n",
            "nespravne 10132.0\n"
          ]
        }
      ]
    },
    {
      "cell_type": "markdown",
      "source": [
        "## summarize history for accuracy"
      ],
      "metadata": {
        "id": "vhTEZ_g7oPrd"
      }
    },
    {
      "cell_type": "code",
      "source": [
        "hist = model.fit(X_train, y_train, validation_split=0.33, epochs=10, batch_size=10, verbose=0)\n",
        "\n",
        "plt.plot(hist.history['accuracy'])\n",
        "plt.plot(hist.history['val_accuracy'])\n",
        "plt.plot(hist.history['loss'])\n",
        "plt.plot(hist.history['val_loss'])\n",
        "\n",
        "plt.title('model accuracy')\n",
        "plt.ylabel('Accuracy')\n",
        "plt.xlabel('Epoch')\n",
        "plt.legend(['Accuracy', 'Validation accuracy', 'Loss', 'Validation loss'])\n",
        "plt.show()\n"
      ],
      "metadata": {
        "colab": {
          "base_uri": "https://localhost:8080/",
          "height": 295
        },
        "id": "BLbsqN1kKebs",
        "outputId": "22ff63a0-0ae7-48ba-fa17-6cc4fde574a9"
      },
      "execution_count": null,
      "outputs": [
        {
          "output_type": "display_data",
          "data": {
            "text/plain": [
              "<Figure size 432x288 with 1 Axes>"
            ],
            "image/png": "[encoded data removed]"
          },
          "metadata": {
            "needs_background": "light"
          }
        }
      ]
    },
    {
      "cell_type": "markdown",
      "source": [
        "## summarize history for loss"
      ],
      "metadata": {
        "id": "Y_HWUNBqoVJn"
      }
    },
    {
      "cell_type": "code",
      "source": [
        "plt.plot(hist.history['loss'])\n",
        "plt.plot(hist.history['val_loss'])\n",
        "\n",
        "plt.title('model loss')\n",
        "plt.ylabel('loss')\n",
        "plt.xlabel('epoch')\n",
        "plt.legend(['train', 'test'], loc='upper left')\n",
        "plt.show()"
      ],
      "metadata": {
        "colab": {
          "base_uri": "https://localhost:8080/",
          "height": 295
        },
        "id": "7EAin5QgoLxu",
        "outputId": "c650987a-d3ad-47b0-8139-eb8578c3e5e1"
      },
      "execution_count": null,
      "outputs": [
        {
          "output_type": "display_data",
          "data": {
            "text/plain": [
              "<Figure size 432x288 with 1 Axes>"
            ],
            "image/png": "[encoded data removed]"
          },
          "metadata": {
            "needs_background": "light"
          }
        }
      ]
    },
    {
      "cell_type": "code",
      "source": [
        "def resnet_model():\n",
        "  res_model = Sequential()\n",
        "\n",
        "  pretrained_model = tf.keras.applications.ResNet50(\n",
        "      include_top=False,\n",
        "      weights='imagenet',\n",
        "      pooling='max',\n",
        "      input_shape=(52, 22, 3)\n",
        "  )\n",
        "\n",
        "\n",
        "  for layer in pretrained_model.layers:\n",
        "    layer.trainable = False\n",
        "\n",
        "  res_model.add(pretrained_model)\n",
        "  res_model.add(Flatten())\n",
        "  res_model.add(Dense(128, activation='relu'))\n",
        "  res_model.add(Dense(10, activation='softmax'))\n",
        "\n",
        "  res_model.compile(loss='categorical_crossentropy', optimizer='adam', metrics=['accuracy'])\n",
        "\n",
        "  return res_model"
      ],
      "metadata": {
        "id": "_jYFFdfHpcdr"
      },
      "execution_count": 12,
      "outputs": []
    },
    {
      "cell_type": "code",
      "source": [
        "X_train = np.stack((outputs,)*3, axis=-1)\n",
        "print(X_train.shape)\n",
        "\n",
        "X_train_new = []\n",
        "\n",
        "\n",
        "# canvas = np.zeros((64, 64, 3)).astype('float')\n",
        "\n",
        "# print('canvas', canvas[6:58, 21:43])\n",
        "\n",
        "# for i in range(X_train.shape[0]):\n",
        "#   canvas[6:58, 21:43] = X_train[i]\n",
        "#   X_train_new.append(canvas)\n",
        "\n",
        "# print(np.shape(X_train_new))\n",
        "# print(X_train_new[0])\n",
        "\n",
        "EEG_res_model = resnet_model()\n",
        "\n",
        "EEG_res_model.summary()\n",
        "EEG_res_model.fit(X_train, y_train, epochs=4, batch_size=10)\n"
      ],
      "metadata": {
        "colab": {
          "base_uri": "https://localhost:8080/",
          "height": 399
        },
        "id": "BRPFZ8x1w7Vc",
        "outputId": "2f69b70e-4c68-4f66-c1b0-af6c9b9bb7d4"
      },
      "execution_count": 13,
      "outputs": [
        {
          "output_type": "stream",
          "name": "stdout",
          "text": [
            "(11386, 52, 22, 3)\n"
          ]
        },
        {
          "output_type": "error",
          "ename": "ValueError",
          "evalue": "ignored",
          "traceback": [
            "\u001b[0;31m---------------------------------------------------------------------------\u001b[0m",
            "\u001b[0;31mValueError\u001b[0m                                Traceback (most recent call last)",
            "\u001b[0;32m<ipython-input-13-ecf25f764b45>\u001b[0m in \u001b[0;36m<module>\u001b[0;34m\u001b[0m\n\u001b[1;32m     16\u001b[0m \u001b[0;31m# print(X_train_new[0])\u001b[0m\u001b[0;34m\u001b[0m\u001b[0;34m\u001b[0m\u001b[0;34m\u001b[0m\u001b[0m\n\u001b[1;32m     17\u001b[0m \u001b[0;34m\u001b[0m\u001b[0m\n\u001b[0;32m---> 18\u001b[0;31m \u001b[0mEEG_res_model\u001b[0m \u001b[0;34m=\u001b[0m \u001b[0mresnet_model\u001b[0m\u001b[0;34m(\u001b[0m\u001b[0;34m)\u001b[0m\u001b[0;34m\u001b[0m\u001b[0;34m\u001b[0m\u001b[0m\n\u001b[0m\u001b[1;32m     19\u001b[0m \u001b[0;34m\u001b[0m\u001b[0m\n\u001b[1;32m     20\u001b[0m \u001b[0mEEG_res_model\u001b[0m\u001b[0;34m.\u001b[0m\u001b[0msummary\u001b[0m\u001b[0;34m(\u001b[0m\u001b[0;34m)\u001b[0m\u001b[0;34m\u001b[0m\u001b[0;34m\u001b[0m\u001b[0m\n",
            "\u001b[0;32m<ipython-input-12-c474cd0e319d>\u001b[0m in \u001b[0;36mresnet_model\u001b[0;34m()\u001b[0m\n\u001b[1;32m      2\u001b[0m   \u001b[0mres_model\u001b[0m \u001b[0;34m=\u001b[0m \u001b[0mSequential\u001b[0m\u001b[0;34m(\u001b[0m\u001b[0;34m)\u001b[0m\u001b[0;34m\u001b[0m\u001b[0;34m\u001b[0m\u001b[0m\n\u001b[1;32m      3\u001b[0m \u001b[0;34m\u001b[0m\u001b[0m\n\u001b[0;32m----> 4\u001b[0;31m   pretrained_model = tf.keras.applications.MobileNet(\n\u001b[0m\u001b[1;32m      5\u001b[0m       \u001b[0minclude_top\u001b[0m\u001b[0;34m=\u001b[0m\u001b[0;32mFalse\u001b[0m\u001b[0;34m,\u001b[0m\u001b[0;34m\u001b[0m\u001b[0;34m\u001b[0m\u001b[0m\n\u001b[1;32m      6\u001b[0m       \u001b[0mweights\u001b[0m\u001b[0;34m=\u001b[0m\u001b[0;34m'imagenet'\u001b[0m\u001b[0;34m,\u001b[0m\u001b[0;34m\u001b[0m\u001b[0;34m\u001b[0m\u001b[0m\n",
            "\u001b[0;32m/usr/local/lib/python3.8/dist-packages/keras/applications/mobilenet.py\u001b[0m in \u001b[0;36mMobileNet\u001b[0;34m(input_shape, alpha, depth_multiplier, dropout, include_top, weights, input_tensor, pooling, classes, classifier_activation, **kwargs)\u001b[0m\n\u001b[1;32m    195\u001b[0m       \u001b[0mdefault_size\u001b[0m \u001b[0;34m=\u001b[0m \u001b[0;36m224\u001b[0m\u001b[0;34m\u001b[0m\u001b[0;34m\u001b[0m\u001b[0m\n\u001b[1;32m    196\u001b[0m \u001b[0;34m\u001b[0m\u001b[0m\n\u001b[0;32m--> 197\u001b[0;31m   input_shape = imagenet_utils.obtain_input_shape(\n\u001b[0m\u001b[1;32m    198\u001b[0m       \u001b[0minput_shape\u001b[0m\u001b[0;34m,\u001b[0m\u001b[0;34m\u001b[0m\u001b[0;34m\u001b[0m\u001b[0m\n\u001b[1;32m    199\u001b[0m       \u001b[0mdefault_size\u001b[0m\u001b[0;34m=\u001b[0m\u001b[0mdefault_size\u001b[0m\u001b[0;34m,\u001b[0m\u001b[0;34m\u001b[0m\u001b[0;34m\u001b[0m\u001b[0m\n",
            "\u001b[0;32m/usr/local/lib/python3.8/dist-packages/keras/applications/imagenet_utils.py\u001b[0m in \u001b[0;36mobtain_input_shape\u001b[0;34m(input_shape, default_size, min_size, data_format, require_flatten, weights)\u001b[0m\n\u001b[1;32m    374\u001b[0m         if ((input_shape[0] is not None and input_shape[0] < min_size) or\n\u001b[1;32m    375\u001b[0m             (input_shape[1] is not None and input_shape[1] < min_size)):\n\u001b[0;32m--> 376\u001b[0;31m           raise ValueError('Input size must be at least '\n\u001b[0m\u001b[1;32m    377\u001b[0m                            \u001b[0;34mf'{min_size}x{min_size}; Received: '\u001b[0m\u001b[0;34m\u001b[0m\u001b[0;34m\u001b[0m\u001b[0m\n\u001b[1;32m    378\u001b[0m                            f'input_shape={input_shape}')\n",
            "\u001b[0;31mValueError\u001b[0m: Input size must be at least 32x32; Received: input_shape=(52, 22, 3)"
          ]
        }
      ]
    }
  ]
}